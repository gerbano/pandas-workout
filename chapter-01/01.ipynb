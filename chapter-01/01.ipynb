{
 "cells": [
  {
   "cell_type": "markdown",
   "metadata": {},
   "source": [
    "# Exercise 1 -- Test scores\n",
    "\n",
    "Create a series of 10 elements, random integers from 70 to 100, representing scores on a monthly exam. Set the index to be the month names, starting in September and ending in June. (If these months don’t match the school year in your location, feel free to make them more realistic.)\n",
    "\n",
    "With this series, write code to answer the following questions:\n",
    "\n",
    "1. What is the student’s average test score for the entire year?\n",
    "2. What is the student’s average test score during the first half of the year (i.e., the first five months)?\n",
    "3. What is the student’s average test score during the second half of the year?\n",
    "4. Did the student improve their performance in the second half? If so, by how much?"
   ]
  },
  {
   "cell_type": "code",
   "execution_count": 1,
   "metadata": {},
   "outputs": [],
   "source": [
    "import pandas as pd\n",
    "import numpy as np\n",
    "from pandas import Series, DataFrame\n",
    "\n",
    "rng = np.random.default_rng(0)"
   ]
  },
  {
   "cell_type": "code",
   "execution_count": 2,
   "metadata": {},
   "outputs": [
    {
     "name": "stdout",
     "output_type": "stream",
     "text": [
      "jan    96\n",
      "fev    89\n",
      "mar    85\n",
      "abr    78\n",
      "mai    79\n",
      "jun    71\n",
      "jul    72\n",
      "ago    70\n",
      "set    75\n",
      "out    95\n",
      "nov    90\n",
      "dez    98\n",
      "dtype: int64\n"
     ]
    }
   ],
   "source": [
    "meses = 'jan fev mar abr mai jun jul ago set out nov dez'.split()\n",
    "#print(meses)\n",
    "\n",
    "notas = Series(rng.integers(70, 101, 12), index=meses)\n",
    "print(notas)"
   ]
  },
  {
   "cell_type": "code",
   "execution_count": 3,
   "metadata": {},
   "outputs": [
    {
     "name": "stdout",
     "output_type": "stream",
     "text": [
      "a média do ano foi 83.17.\n",
      "a média do primeiro semestre foi 83.0.\n",
      "a média das notas no segundo semestre foi 83.33.\n",
      "a média do estudante subiu em 0.33 pontos.\n"
     ]
    }
   ],
   "source": [
    "print(f\"a média do ano foi {round(notas.mean(), 2)}.\")\n",
    "\n",
    "media_01 = notas['jan':'jun'].mean()\n",
    "media_02 = notas['jul':'dez'].mean()\n",
    "\n",
    "print(f\"a média do primeiro semestre foi {round(media_01, 2)}.\")\n",
    "print(f\"a média das notas no segundo semestre foi {round(media_02, 2)}.\")\n",
    "\n",
    "if media_02 > media_01:\n",
    "    print(f\"a média do estudante subiu em {round(media_02 - media_01, 2)} pontos.\")\n",
    "else:\n",
    "    print(f\"a média do estudante caiu em {round(media_02 - media_01, 2)} pontos.\")"
   ]
  },
  {
   "cell_type": "code",
   "execution_count": 6,
   "metadata": {},
   "outputs": [
    {
     "name": "stdout",
     "output_type": "stream",
     "text": [
      "83.0\n",
      "83.33333333333333\n"
     ]
    }
   ],
   "source": [
    "media_01 = notas[:6].mean()\n",
    "media_02 = notas[6:].mean()\n",
    "\n",
    "print(media_01)\n",
    "print(media_02)"
   ]
  },
  {
   "cell_type": "markdown",
   "metadata": {},
   "source": [
    "5. In which month did this student get their highest score?\n",
    "\n",
    "6. What were this student’s five highest scores?\n",
    "\n",
    "7. Round the student’s scores to the nearest 10. (A score of 82 would be rounded down to 80, but a score of 87 would be rounded up to 90.)"
   ]
  },
  {
   "cell_type": "code",
   "execution_count": null,
   "metadata": {},
   "outputs": [
    {
     "data": {
      "text/plain": [
       "'dez'"
      ]
     },
     "execution_count": 29,
     "metadata": {},
     "output_type": "execute_result"
    }
   ],
   "source": [
    "#notas.idxmax()\n",
    "\n",
    "#notas.sort_values().tail(1)\n",
    "\n",
    "#notas.sort_values(ascending=False).index[0]\n",
    "\n",
    "#notas[notas==notas.max()].index[0]"
   ]
  },
  {
   "cell_type": "code",
   "execution_count": 35,
   "metadata": {},
   "outputs": [
    {
     "data": {
      "text/plain": [
       "dez    98\n",
       "jan    96\n",
       "out    95\n",
       "nov    90\n",
       "fev    89\n",
       "dtype: int64"
      ]
     },
     "execution_count": 35,
     "metadata": {},
     "output_type": "execute_result"
    }
   ],
   "source": [
    "notas.sort_values(ascending=False).head(5)"
   ]
  },
  {
   "cell_type": "code",
   "execution_count": 38,
   "metadata": {},
   "outputs": [
    {
     "data": {
      "text/plain": [
       "jan    100\n",
       "fev     90\n",
       "mar     80\n",
       "abr     80\n",
       "mai     80\n",
       "jun     70\n",
       "jul     70\n",
       "ago     70\n",
       "set     80\n",
       "out    100\n",
       "nov     90\n",
       "dez    100\n",
       "dtype: int64"
      ]
     },
     "execution_count": 38,
     "metadata": {},
     "output_type": "execute_result"
    }
   ],
   "source": [
    "#round(notas/10, 0)*10\n",
    "\n",
    "notas.round(-1)"
   ]
  },
  {
   "cell_type": "code",
   "execution_count": null,
   "metadata": {},
   "outputs": [],
   "source": []
  }
 ],
 "metadata": {
  "kernelspec": {
   "display_name": "Python 3",
   "language": "python",
   "name": "python3"
  },
  "language_info": {
   "codemirror_mode": {
    "name": "ipython",
    "version": 3
   },
   "file_extension": ".py",
   "mimetype": "text/x-python",
   "name": "python",
   "nbconvert_exporter": "python",
   "pygments_lexer": "ipython3",
   "version": "3.10.12"
  }
 },
 "nbformat": 4,
 "nbformat_minor": 2
}
