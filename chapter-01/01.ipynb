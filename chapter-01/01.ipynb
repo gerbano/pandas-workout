{
 "cells": [
  {
   "cell_type": "markdown",
   "metadata": {},
   "source": [
    "# 1. Pontuação em provas\n",
    "\n",
    "Crie uma série contendo 10 elementos com valores aleatórios de 70 a 100, inclusive, representando notas em provas mensais. Defina o índice como sendo os nomes dos meses, começando em fevereiro e terminando em novembro.\n",
    "\n",
    "Usando essa série, responda às seguintes perguntas:\n",
    "\n",
    "1. Qual é a média das notas no ano inteiro?\n",
    "2. Qual é a média das notas na primeira metade do ano (o.s., os 5 primeiros meses)?\n",
    "3. Qual é a média das notas na segunda metade do ano?\n",
    "4. O aluno teve notas mais altas na segunda metade do ano? Se sim, quanto?\n",
    "\n",
    "Extras:\n",
    "\n",
    "5. Em qual mês o aluno teve a nota mais alta?\n",
    "6. Quais foram as 5 maiores notas do aluno?\n",
    "7. Arredonde as notas para a dezena mais próxima (uma nota 82 vira 80 e uma nota 87 vira 90)."
   ]
  },
  {
   "cell_type": "code",
   "execution_count": 1,
   "metadata": {},
   "outputs": [
    {
     "name": "stdout",
     "output_type": "stream",
     "text": [
      "fev    96\n",
      "mar    89\n",
      "abr    85\n",
      "mai    78\n",
      "jun    79\n",
      "jul    71\n",
      "ago    72\n",
      "set    70\n",
      "out    75\n",
      "nov    95\n",
      "dtype: int64\n"
     ]
    }
   ],
   "source": [
    "import pandas as pd\n",
    "import numpy as np\n",
    "from pandas import Series, DataFrame\n",
    "\n",
    "rng = np.random.default_rng(0)\n",
    "\n",
    "meses = 'fev mar abr mai jun jul ago set out nov'.split()\n",
    "#print(meses)\n",
    "\n",
    "notas = Series(rng.integers(70, 101, len(meses)), index=meses)\n",
    "print(notas)"
   ]
  },
  {
   "cell_type": "markdown",
   "metadata": {},
   "source": [
    "## 1. Qual é a média das notas no ano inteiro?"
   ]
  },
  {
   "cell_type": "code",
   "execution_count": 2,
   "metadata": {},
   "outputs": [
    {
     "name": "stdout",
     "output_type": "stream",
     "text": [
      "a média do ano foi 81.0.\n"
     ]
    }
   ],
   "source": [
    "print(f\"a média do ano foi {round(notas.mean(), 2)}.\")\n"
   ]
  },
  {
   "cell_type": "markdown",
   "metadata": {},
   "source": [
    "## 2. Qual é a média das notas na primeira metade do ano (o.s., os 5 primeiros meses)?"
   ]
  },
  {
   "cell_type": "code",
   "execution_count": 3,
   "metadata": {},
   "outputs": [
    {
     "name": "stdout",
     "output_type": "stream",
     "text": [
      "a média do primeiro semestre foi 85.4.\n"
     ]
    }
   ],
   "source": [
    "media_01 = notas['fev':'jun'].mean()\n",
    "print(f\"a média do primeiro semestre foi {round(media_01, 2)}.\")"
   ]
  },
  {
   "cell_type": "markdown",
   "metadata": {},
   "source": [
    "## 3. Qual é a média das notas na segunda metade do ano?"
   ]
  },
  {
   "cell_type": "code",
   "execution_count": 4,
   "metadata": {},
   "outputs": [
    {
     "name": "stdout",
     "output_type": "stream",
     "text": [
      "a média das notas no segundo semestre foi 76.6.\n"
     ]
    }
   ],
   "source": [
    "media_02 = notas['jul':'nov'].mean()\n",
    "print(f\"a média das notas no segundo semestre foi {round(media_02, 2)}.\")"
   ]
  },
  {
   "cell_type": "markdown",
   "metadata": {},
   "source": [
    "## 4. O aluno teve notas mais altas na segunda metade do ano? Se sim, quanto?"
   ]
  },
  {
   "cell_type": "code",
   "execution_count": 5,
   "metadata": {},
   "outputs": [
    {
     "name": "stdout",
     "output_type": "stream",
     "text": [
      "a média do estudante caiu em -8.8 pontos.\n"
     ]
    }
   ],
   "source": [
    "if media_02 > media_01:\n",
    "    print(f\"a média do estudante subiu em {round(media_02 - media_01, 2)} pontos.\")\n",
    "else:\n",
    "    print(f\"a média do estudante caiu em {round(media_02 - media_01, 2)} pontos.\")"
   ]
  },
  {
   "cell_type": "markdown",
   "metadata": {},
   "source": [
    "## 5. Em qual mês o aluno teve a nota mais alta?"
   ]
  },
  {
   "cell_type": "code",
   "execution_count": 6,
   "metadata": {},
   "outputs": [
    {
     "data": {
      "text/plain": [
       "'fev'"
      ]
     },
     "execution_count": 6,
     "metadata": {},
     "output_type": "execute_result"
    }
   ],
   "source": [
    "notas.idxmax()\n",
    "#notas.sort_values().tail(1)\n",
    "#notas.sort_values(ascending=False).index[0]\n",
    "#notas[notas==notas.max()].index[0]"
   ]
  },
  {
   "cell_type": "markdown",
   "metadata": {},
   "source": [
    "## 6. Quais foram as 5 maiores notas do aluno?"
   ]
  },
  {
   "cell_type": "code",
   "execution_count": 7,
   "metadata": {},
   "outputs": [
    {
     "data": {
      "text/plain": [
       "fev    96\n",
       "nov    95\n",
       "mar    89\n",
       "abr    85\n",
       "jun    79\n",
       "dtype: int64"
      ]
     },
     "execution_count": 7,
     "metadata": {},
     "output_type": "execute_result"
    }
   ],
   "source": [
    "notas.sort_values(ascending=False).head(5)"
   ]
  },
  {
   "cell_type": "markdown",
   "metadata": {},
   "source": [
    "## 7. Arredonde as notas para a dezena mais próxima (uma nota 82 vira 80 e uma nota 87 vira 90)."
   ]
  },
  {
   "cell_type": "code",
   "execution_count": 8,
   "metadata": {},
   "outputs": [
    {
     "data": {
      "text/plain": [
       "fev    100\n",
       "mar     90\n",
       "abr     80\n",
       "mai     80\n",
       "jun     80\n",
       "jul     70\n",
       "ago     70\n",
       "set     70\n",
       "out     80\n",
       "nov    100\n",
       "dtype: int64"
      ]
     },
     "execution_count": 8,
     "metadata": {},
     "output_type": "execute_result"
    }
   ],
   "source": [
    "#round(notas/10, 0)*10\n",
    "notas.round(-1)"
   ]
  }
 ],
 "metadata": {
  "kernelspec": {
   "display_name": "Python 3",
   "language": "python",
   "name": "python3"
  },
  "language_info": {
   "codemirror_mode": {
    "name": "ipython",
    "version": 3
   },
   "file_extension": ".py",
   "mimetype": "text/x-python",
   "name": "python",
   "nbconvert_exporter": "python",
   "pygments_lexer": "ipython3",
   "version": "3.13.1"
  }
 },
 "nbformat": 4,
 "nbformat_minor": 2
}
