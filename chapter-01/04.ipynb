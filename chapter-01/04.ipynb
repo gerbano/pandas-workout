{
 "cells": [
  {
   "cell_type": "markdown",
   "metadata": {},
   "source": [
    "# 4. Estatística descritiva\n",
    "\n",
    "1. Gere uma série com 100.000 floats em uma distribuição normal com média 0 e desvio-padrão de 100.\n",
    "2. Calcule as estatísticas descritivas dessa série.\n",
    "3. Substitua o valor mínimo por 5 vezes o valor máximo.\n",
    "4. Calcule as estatísticas descritivas novamente. A média, mediana e desvios mudaram? Se sim, por quê?\n",
    "\n",
    "Extensões:\n",
    "\n",
    "5. Mostre que os percentis 68%, 95% e 99,7% de ```s``` correspondem a 1, 2 e 3 d.p. da média.\n",
    "6. Calcule a média dos números maiores que ```s.mean()```. Calcule a média dos números menores que ```s.mean()```. A média desses dois resultados é igual a ```s.mean()```?\n",
    "7. Qual a média dos valores acima de 3 d.p.?"
   ]
  },
  {
   "cell_type": "code",
   "execution_count": 30,
   "metadata": {},
   "outputs": [],
   "source": [
    "import pandas as pd\n",
    "import numpy as np\n",
    "\n",
    "rng = np.random.default_rng(0)"
   ]
  },
  {
   "cell_type": "markdown",
   "metadata": {},
   "source": [
    "## 1. Gere uma série com 100.000 floats em uma distribuição normal com média 0 e desvio-padrão de 100."
   ]
  },
  {
   "cell_type": "code",
   "execution_count": 31,
   "metadata": {},
   "outputs": [],
   "source": [
    "s = pd.Series(rng.normal(0, 100, 100_000))"
   ]
  },
  {
   "cell_type": "markdown",
   "metadata": {},
   "source": [
    "## 2. Calcule as estatísticas descritivas dessa série."
   ]
  },
  {
   "cell_type": "code",
   "execution_count": 32,
   "metadata": {},
   "outputs": [
    {
     "name": "stdout",
     "output_type": "stream",
     "text": [
      "media = -0.0908\n",
      "mediana = -0.4147\n",
      "maximo = 473.1958\n",
      "minimo = -449.4117\n",
      "percentil 25 = -67.2921\n",
      "percentil 75 = 67.6365\n"
     ]
    }
   ],
   "source": [
    "media = s.mean()\n",
    "print(f\"media = {round(media, 4)}\")\n",
    "\n",
    "mediana = s.median()\n",
    "print(f\"mediana = {round(mediana, 4)}\")\n",
    "\n",
    "maximo = s.max()\n",
    "print(f\"maximo = {round(maximo, 4)}\")\n",
    "\n",
    "minimo = s.min()\n",
    "print(f\"minimo = {round(minimo, 4)}\")\n",
    "\n",
    "p25 = np.percentile(s, 25)\n",
    "print(f\"percentil 25 = {(round(p25, 4))}\")\n",
    "\n",
    "p75 = np.percentile(s, 75)\n",
    "print(f\"percentil 75 = {round(p75, 4)}\")"
   ]
  },
  {
   "cell_type": "code",
   "execution_count": 33,
   "metadata": {},
   "outputs": [
    {
     "data": {
      "text/plain": [
       "count    100000.000000\n",
       "mean         -0.090825\n",
       "std         100.013350\n",
       "min        -449.411704\n",
       "25%         -67.292120\n",
       "50%          -0.414699\n",
       "75%          67.636542\n",
       "max         473.195769\n",
       "dtype: float64"
      ]
     },
     "execution_count": 33,
     "metadata": {},
     "output_type": "execute_result"
    }
   ],
   "source": [
    "s.describe()"
   ]
  },
  {
   "cell_type": "markdown",
   "metadata": {},
   "source": [
    "## 3. Substitua o valor mínimo por 5 vezes o valor máximo."
   ]
  },
  {
   "cell_type": "code",
   "execution_count": 34,
   "metadata": {},
   "outputs": [],
   "source": [
    "s[s.idxmin()] = 5 * s[s.idxmax()]"
   ]
  },
  {
   "cell_type": "markdown",
   "metadata": {},
   "source": [
    "## 4. Calcule as estatísticas descritivas novamente. A média, mediana e desvios mudaram? Se sim, por quê?"
   ]
  },
  {
   "cell_type": "code",
   "execution_count": 35,
   "metadata": {},
   "outputs": [
    {
     "name": "stdout",
     "output_type": "stream",
     "text": [
      "media = -0.0627\n",
      "mediana = -0.4093\n",
      "maximo = 2365.9788\n",
      "minimo = -402.3159\n",
      "percentil 25 = -67.2881\n",
      "percentil 75 = 67.6408\n"
     ]
    }
   ],
   "source": [
    "media = s.mean()\n",
    "print(f\"media = {round(media, 4)}\")\n",
    "\n",
    "mediana = s.median()\n",
    "print(f\"mediana = {round(mediana, 4)}\")\n",
    "\n",
    "maximo = s.max()\n",
    "print(f\"maximo = {round(maximo, 4)}\")\n",
    "\n",
    "minimo = s.min()\n",
    "print(f\"minimo = {round(minimo, 4)}\")\n",
    "\n",
    "p25 = np.percentile(s, 25)\n",
    "print(f\"percentil 25 = {(round(p25, 4))}\")\n",
    "\n",
    "p75 = np.percentile(s, 75)\n",
    "print(f\"percentil 75 = {round(p75, 4)}\")"
   ]
  },
  {
   "cell_type": "code",
   "execution_count": 36,
   "metadata": {},
   "outputs": [
    {
     "data": {
      "text/plain": [
       "count    100000.000000\n",
       "mean         -0.062671\n",
       "std         100.282770\n",
       "min        -402.315865\n",
       "25%         -67.288054\n",
       "50%          -0.409289\n",
       "75%          67.640758\n",
       "max        2365.978844\n",
       "dtype: float64"
      ]
     },
     "execution_count": 36,
     "metadata": {},
     "output_type": "execute_result"
    }
   ],
   "source": [
    "s.describe()"
   ]
  },
  {
   "cell_type": "markdown",
   "metadata": {},
   "source": [
    "## 5. Mostre que os percentis 68%, 95% e 99,7% de ```s``` correspondem a 1, 2 e 3 d.p. da média."
   ]
  },
  {
   "cell_type": "code",
   "execution_count": 37,
   "metadata": {},
   "outputs": [
    {
     "name": "stdout",
     "output_type": "stream",
     "text": [
      "Theoretical vs Actual percentages:\n",
      "1 std dev: Expected ~68% | Actual 68.5%\n",
      "2 std dev: Expected ~95% | Actual 95.5%\n",
      "3 std dev: Expected ~99.7% | Actual 99.7%\n"
     ]
    }
   ],
   "source": [
    "# Calculate theoretical boundaries based on standard deviations\n",
    "std = s.std()\n",
    "mean = s.mean()\n",
    "\n",
    "# Theoretical boundaries\n",
    "boundaries = {\n",
    "  \"1 std\": (mean - std, mean + std),\n",
    "  \"2 std\": (mean - 2*std, mean + 2*std),\n",
    "  \"3 std\": (mean - 3*std, mean + 3*std)\n",
    "}\n",
    "\n",
    "# Calculate actual percentages within each boundary\n",
    "within_1std = (s[(s >= boundaries[\"1 std\"][0]) & (s <= boundaries[\"1 std\"][1])].count() / len(s)) * 100\n",
    "within_2std = (s[(s >= boundaries[\"2 std\"][0]) & (s <= boundaries[\"2 std\"][1])].count() / len(s)) * 100\n",
    "within_3std = (s[(s >= boundaries[\"3 std\"][0]) & (s <= boundaries[\"3 std\"][1])].count() / len(s)) * 100\n",
    "\n",
    "print(\"Theoretical vs Actual percentages:\")\n",
    "print(f\"1 std dev: Expected ~68% | Actual {within_1std:.1f}%\")\n",
    "print(f\"2 std dev: Expected ~95% | Actual {within_2std:.1f}%\")\n",
    "print(f\"3 std dev: Expected ~99.7% | Actual {within_3std:.1f}%\")"
   ]
  },
  {
   "cell_type": "code",
   "execution_count": 29,
   "metadata": {},
   "outputs": [
    {
     "name": "stdout",
     "output_type": "stream",
     "text": [
      "100.28277012615403\n",
      "47.104921266850624\n"
     ]
    }
   ],
   "source": [
    "p68 = s.quantile(0.68)\n",
    "p95 = s.quantile(0.95)\n",
    "p99 = s.quantile(0.997)\n",
    "\n",
    "#print(f\"68% = {round(p68, 4)}; 95% = {round(p95, 4)}; 99,7% = {round(p99, 4)}\")\n",
    "\n",
    "#s.loc[s >= (s.mean() + s.std())].sort_values().head(2)\n",
    "\n",
    "print(s.std())\n",
    "print(s.quantile(0.68, interpolation='higher'))"
   ]
  },
  {
   "cell_type": "markdown",
   "metadata": {},
   "source": [
    "## 6. Calcule a média dos números maiores que ```s.mean()```. Calcule a média dos números menores que ```s.mean()```. A média desses dois resultados é igual a ```s.mean()```?"
   ]
  },
  {
   "cell_type": "code",
   "execution_count": 49,
   "metadata": {},
   "outputs": [
    {
     "name": "stdout",
     "output_type": "stream",
     "text": [
      "média dos valores acima da média = 79.9747\n",
      "média dos valores abaixo da média = -79.7086\n",
      "média da série = 0.0724\n",
      "media das médias = 0.133\n"
     ]
    }
   ],
   "source": [
    "s = pd.Series(rng.normal(0, 100, 100_000))\n",
    "\n",
    "media_maiores = s[s > s.mean()].mean()\n",
    "media_menores = s[s < s.mean()].mean()\n",
    "\n",
    "print(f\"média dos valores acima da média = {round(media_maiores, 4)}\")\n",
    "print(f\"média dos valores abaixo da média = {round(media_menores, 4)}\")\n",
    "\n",
    "print(f\"média da série = {round(s.mean(), 4)}\")\n",
    "print(f\"media das médias = {round((media_maiores + media_menores)/2, 4)}\")"
   ]
  },
  {
   "cell_type": "markdown",
   "metadata": {},
   "source": [
    "## 7. Qual a média dos valores acima de 3 d.p.?"
   ]
  },
  {
   "cell_type": "code",
   "execution_count": 51,
   "metadata": {},
   "outputs": [
    {
     "data": {
      "text/plain": [
       "np.float64(303.9897670424998)"
      ]
     },
     "execution_count": 51,
     "metadata": {},
     "output_type": "execute_result"
    }
   ],
   "source": [
    "p99 = s.quantile(0.997)\n",
    "s[s > p99].mean()"
   ]
  },
  {
   "cell_type": "markdown",
   "metadata": {},
   "source": [
    "- Demonstrate that 68%, 95%, and 99.7% of the values in s are indeed within one, two, and three standard distributions of the mean.\n",
    "\n",
    "- Calculate the mean of numbers greater than s.mean(). Then calculate the mean of numbers less than s.mean(). Is the average of these two numbers the same as s.mean()?\n",
    "\n",
    "- What is the mean of the numbers beyond three standard deviations?"
   ]
  }
 ],
 "metadata": {
  "kernelspec": {
   "display_name": "Python 3",
   "language": "python",
   "name": "python3"
  },
  "language_info": {
   "codemirror_mode": {
    "name": "ipython",
    "version": 3
   },
   "file_extension": ".py",
   "mimetype": "text/x-python",
   "name": "python",
   "nbconvert_exporter": "python",
   "pygments_lexer": "ipython3",
   "version": "3.13.1"
  }
 },
 "nbformat": 4,
 "nbformat_minor": 2
}
