{
 "cells": [
  {
   "cell_type": "markdown",
   "metadata": {},
   "source": [
    "# ex 4\n",
    "\n",
    "- Generate a series of 100,000 floats in a normal distribution with a mean of 0 and a standard deviation of 100.\n",
    "\n",
    "- Get the descriptive statistics for this series. How close are the mean and median? (You don’t need to calculate the difference; rather, consider why they aren’t the same.)\n",
    "\n",
    "- Replace the minimum value with 5 times the maximum value.\n",
    "\n",
    "- Get the descriptive statistics again. Did the mean, median, and standard deviations change from their previous values? (Again, it’s enough to see the difference without calculating it.) If so, why?"
   ]
  },
  {
   "cell_type": "code",
   "execution_count": 40,
   "metadata": {},
   "outputs": [],
   "source": [
    "import pandas as pd\n",
    "import numpy as np\n",
    "\n",
    "rng = np.random.default_rng(0)"
   ]
  },
  {
   "cell_type": "code",
   "execution_count": 41,
   "metadata": {},
   "outputs": [],
   "source": [
    "s = pd.Series(rng.normal(0, 100, 100_000))"
   ]
  },
  {
   "cell_type": "code",
   "execution_count": 42,
   "metadata": {},
   "outputs": [
    {
     "name": "stdout",
     "output_type": "stream",
     "text": [
      "media = -0.0908\n",
      "mediana = -0.4147\n",
      "maximo = 473.1958\n",
      "minimo = -449.4117\n",
      "percentil 25 = -67.2921\n",
      "percentil 75 = 67.6365\n"
     ]
    }
   ],
   "source": [
    "media = s.mean()\n",
    "print(f\"media = {round(media, 4)}\")\n",
    "\n",
    "mediana = s.median()\n",
    "print(f\"mediana = {round(mediana, 4)}\")\n",
    "\n",
    "maximo = s.max()\n",
    "print(f\"maximo = {round(maximo, 4)}\")\n",
    "\n",
    "minimo = s.min()\n",
    "print(f\"minimo = {round(minimo, 4)}\")\n",
    "\n",
    "p25 = np.percentile(s, 25)\n",
    "print(f\"percentil 25 = {(round(p25, 4))}\")\n",
    "\n",
    "p75 = np.percentile(s, 75)\n",
    "print(f\"percentil 75 = {round(p75, 4)}\")"
   ]
  },
  {
   "cell_type": "code",
   "execution_count": 43,
   "metadata": {},
   "outputs": [
    {
     "data": {
      "text/plain": [
       "count    100000.000000\n",
       "mean         -0.090825\n",
       "std         100.013350\n",
       "min        -449.411704\n",
       "25%         -67.292120\n",
       "50%          -0.414699\n",
       "75%          67.636542\n",
       "max         473.195769\n",
       "dtype: float64"
      ]
     },
     "execution_count": 43,
     "metadata": {},
     "output_type": "execute_result"
    }
   ],
   "source": [
    "s.describe()"
   ]
  },
  {
   "cell_type": "code",
   "execution_count": 44,
   "metadata": {},
   "outputs": [],
   "source": [
    "s[s.idxmin()] = 5 * s[s.idxmax()]"
   ]
  },
  {
   "cell_type": "code",
   "execution_count": 45,
   "metadata": {},
   "outputs": [
    {
     "name": "stdout",
     "output_type": "stream",
     "text": [
      "media = -0.0627\n",
      "mediana = -0.4093\n",
      "maximo = 2365.9788\n",
      "minimo = -402.3159\n",
      "percentil 25 = -67.2881\n",
      "percentil 75 = 67.6408\n"
     ]
    }
   ],
   "source": [
    "media = s.mean()\n",
    "print(f\"media = {round(media, 4)}\")\n",
    "\n",
    "mediana = s.median()\n",
    "print(f\"mediana = {round(mediana, 4)}\")\n",
    "\n",
    "maximo = s.max()\n",
    "print(f\"maximo = {round(maximo, 4)}\")\n",
    "\n",
    "minimo = s.min()\n",
    "print(f\"minimo = {round(minimo, 4)}\")\n",
    "\n",
    "p25 = np.percentile(s, 25)\n",
    "print(f\"percentil 25 = {(round(p25, 4))}\")\n",
    "\n",
    "p75 = np.percentile(s, 75)\n",
    "print(f\"percentil 75 = {round(p75, 4)}\")"
   ]
  },
  {
   "cell_type": "code",
   "execution_count": 46,
   "metadata": {},
   "outputs": [
    {
     "data": {
      "text/plain": [
       "count    100000.000000\n",
       "mean         -0.062671\n",
       "std         100.282770\n",
       "min        -402.315865\n",
       "25%         -67.288054\n",
       "50%          -0.409289\n",
       "75%          67.640758\n",
       "max        2365.978844\n",
       "dtype: float64"
      ]
     },
     "execution_count": 46,
     "metadata": {},
     "output_type": "execute_result"
    }
   ],
   "source": [
    "s.describe()"
   ]
  },
  {
   "cell_type": "markdown",
   "metadata": {},
   "source": [
    "- Demonstrate that 68%, 95%, and 99.7% of the values in s are indeed within one, two, and three standard distributions of the mean.\n",
    "\n",
    "- Calculate the mean of numbers greater than s.mean(). Then calculate the mean of numbers less than s.mean(). Is the average of these two numbers the same as s.mean()?\n",
    "\n",
    "- What is the mean of the numbers beyond three standard deviations?"
   ]
  },
  {
   "cell_type": "code",
   "execution_count": 47,
   "metadata": {},
   "outputs": [
    {
     "name": "stdout",
     "output_type": "stream",
     "text": [
      "68% = 47.1041; 95% = 163.7201; 99,7% = 277.0033\n"
     ]
    }
   ],
   "source": [
    "p68 = s.quantile(0.68)\n",
    "p95 = s.quantile(0.95)\n",
    "p99 = s.quantile(0.997)\n",
    "\n",
    "print(f\"68% = {round(p68, 4)}; 95% = {round(p95, 4)}; 99,7% = {round(p99, 4)}\")"
   ]
  },
  {
   "cell_type": "code",
   "execution_count": 49,
   "metadata": {},
   "outputs": [
    {
     "name": "stdout",
     "output_type": "stream",
     "text": [
      "média dos valores acima da média = 79.9747\n",
      "média dos valores abaixo da média = -79.7086\n",
      "média da série = 0.0724\n",
      "media das médias = 0.133\n"
     ]
    }
   ],
   "source": [
    "s = pd.Series(rng.normal(0, 100, 100_000))\n",
    "\n",
    "media_maiores = s[s > s.mean()].mean()\n",
    "media_menores = s[s < s.mean()].mean()\n",
    "\n",
    "print(f\"média dos valores acima da média = {round(media_maiores, 4)}\")\n",
    "print(f\"média dos valores abaixo da média = {round(media_menores, 4)}\")\n",
    "\n",
    "print(f\"média da série = {round(s.mean(), 4)}\")\n",
    "print(f\"media das médias = {round((media_maiores + media_menores)/2, 4)}\")"
   ]
  },
  {
   "cell_type": "code",
   "execution_count": 51,
   "metadata": {},
   "outputs": [
    {
     "data": {
      "text/plain": [
       "np.float64(303.9897670424998)"
      ]
     },
     "execution_count": 51,
     "metadata": {},
     "output_type": "execute_result"
    }
   ],
   "source": [
    "p99 = s.quantile(0.997)\n",
    "s[s > p99].mean()"
   ]
  },
  {
   "cell_type": "code",
   "execution_count": null,
   "metadata": {},
   "outputs": [],
   "source": []
  }
 ],
 "metadata": {
  "kernelspec": {
   "display_name": "Python 3",
   "language": "python",
   "name": "python3"
  },
  "language_info": {
   "codemirror_mode": {
    "name": "ipython",
    "version": 3
   },
   "file_extension": ".py",
   "mimetype": "text/x-python",
   "name": "python",
   "nbconvert_exporter": "python",
   "pygments_lexer": "ipython3",
   "version": "3.13.1"
  }
 },
 "nbformat": 4,
 "nbformat_minor": 2
}
