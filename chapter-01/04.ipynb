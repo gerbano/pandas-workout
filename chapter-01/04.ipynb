{
 "cells": [
  {
   "cell_type": "markdown",
   "metadata": {},
   "source": [
    "# 4. Estatística descritiva\n",
    "\n",
    "1. Gere uma série com 100.000 floats em uma distribuição normal com média 0 e desvio-padrão de 100.\n",
    "2. Calcule as estatísticas descritivas dessa série.\n",
    "3. Substitua o valor mínimo por 5 vezes o valor máximo.\n",
    "4. Calcule as estatísticas descritivas novamente. A média, mediana e desvios mudaram? Se sim, por quê?\n",
    "\n",
    "Extensões:\n",
    "\n",
    "5. Mostre que os percentis 68%, 95% e 99,7% de ```s``` correspondem a 1, 2 e 3 d.p. da média.\n",
    "6. Calcule a média dos números maiores que ```s.mean()```. Calcule a média dos números menores que ```s.mean()```. A média desses dois resultados é igual a ```s.mean()```?\n",
    "7. Qual a média dos valores acima de 3 d.p.?"
   ]
  },
  {
   "cell_type": "code",
   "execution_count": 1,
   "metadata": {},
   "outputs": [],
   "source": [
    "import pandas as pd\n",
    "import numpy as np\n",
    "\n",
    "rng = np.random.default_rng(0)"
   ]
  },
  {
   "cell_type": "markdown",
   "metadata": {},
   "source": [
    "## 1. Gere uma série com 100.000 floats em uma distribuição normal com média 0 e desvio-padrão de 100."
   ]
  },
  {
   "cell_type": "code",
   "execution_count": 2,
   "metadata": {},
   "outputs": [],
   "source": [
    "s = pd.Series(rng.normal(0, 100, 100_000))"
   ]
  },
  {
   "cell_type": "markdown",
   "metadata": {},
   "source": [
    "## 2. Calcule as estatísticas descritivas dessa série."
   ]
  },
  {
   "cell_type": "code",
   "execution_count": 3,
   "metadata": {},
   "outputs": [
    {
     "name": "stdout",
     "output_type": "stream",
     "text": [
      "media = -0.0908\n",
      "mediana = -0.4147\n",
      "maximo = 473.1958\n",
      "minimo = -449.4117\n",
      "percentil 25 = -67.2921\n",
      "percentil 75 = 67.6365\n"
     ]
    }
   ],
   "source": [
    "media = s.mean()\n",
    "print(f\"media = {round(media, 4)}\")\n",
    "\n",
    "mediana = s.median()\n",
    "print(f\"mediana = {round(mediana, 4)}\")\n",
    "\n",
    "maximo = s.max()\n",
    "print(f\"maximo = {round(maximo, 4)}\")\n",
    "\n",
    "minimo = s.min()\n",
    "print(f\"minimo = {round(minimo, 4)}\")\n",
    "\n",
    "p25 = np.percentile(s, 25)\n",
    "print(f\"percentil 25 = {(round(p25, 4))}\")\n",
    "\n",
    "p75 = np.percentile(s, 75)\n",
    "print(f\"percentil 75 = {round(p75, 4)}\")"
   ]
  },
  {
   "cell_type": "code",
   "execution_count": 4,
   "metadata": {},
   "outputs": [
    {
     "data": {
      "text/plain": [
       "count    100000.000000\n",
       "mean         -0.090825\n",
       "std         100.013350\n",
       "min        -449.411704\n",
       "25%         -67.292120\n",
       "50%          -0.414699\n",
       "75%          67.636542\n",
       "max         473.195769\n",
       "dtype: float64"
      ]
     },
     "execution_count": 4,
     "metadata": {},
     "output_type": "execute_result"
    }
   ],
   "source": [
    "s.describe()"
   ]
  },
  {
   "cell_type": "markdown",
   "metadata": {},
   "source": [
    "## 3. Substitua o valor mínimo por 5 vezes o valor máximo."
   ]
  },
  {
   "cell_type": "code",
   "execution_count": 5,
   "metadata": {},
   "outputs": [],
   "source": [
    "s[s.idxmin()] = 5 * s[s.idxmax()]"
   ]
  },
  {
   "cell_type": "markdown",
   "metadata": {},
   "source": [
    "## 4. Calcule as estatísticas descritivas novamente. A média, mediana e desvios mudaram? Se sim, por quê?"
   ]
  },
  {
   "cell_type": "code",
   "execution_count": 6,
   "metadata": {},
   "outputs": [
    {
     "name": "stdout",
     "output_type": "stream",
     "text": [
      "media = -0.0627\n",
      "mediana = -0.4093\n",
      "maximo = 2365.9788\n",
      "minimo = -402.3159\n",
      "percentil 25 = -67.2881\n",
      "percentil 75 = 67.6408\n"
     ]
    }
   ],
   "source": [
    "media = s.mean()\n",
    "print(f\"media = {round(media, 4)}\")\n",
    "\n",
    "mediana = s.median()\n",
    "print(f\"mediana = {round(mediana, 4)}\")\n",
    "\n",
    "maximo = s.max()\n",
    "print(f\"maximo = {round(maximo, 4)}\")\n",
    "\n",
    "minimo = s.min()\n",
    "print(f\"minimo = {round(minimo, 4)}\")\n",
    "\n",
    "p25 = np.percentile(s, 25)\n",
    "print(f\"percentil 25 = {(round(p25, 4))}\")\n",
    "\n",
    "p75 = np.percentile(s, 75)\n",
    "print(f\"percentil 75 = {round(p75, 4)}\")"
   ]
  },
  {
   "cell_type": "code",
   "execution_count": 7,
   "metadata": {},
   "outputs": [
    {
     "data": {
      "text/plain": [
       "count    100000.000000\n",
       "mean         -0.062671\n",
       "std         100.282770\n",
       "min        -402.315865\n",
       "25%         -67.288054\n",
       "50%          -0.409289\n",
       "75%          67.640758\n",
       "max        2365.978844\n",
       "dtype: float64"
      ]
     },
     "execution_count": 7,
     "metadata": {},
     "output_type": "execute_result"
    }
   ],
   "source": [
    "s.describe()"
   ]
  },
  {
   "cell_type": "markdown",
   "metadata": {},
   "source": [
    "## 5. Mostre que os percentis 68%, 95% e 99,7% de ```s``` correspondem a 1, 2 e 3 d.p. da média."
   ]
  },
  {
   "cell_type": "code",
   "execution_count": 9,
   "metadata": {},
   "outputs": [
    {
     "name": "stdout",
     "output_type": "stream",
     "text": [
      "1 dp: esperado ~68% | observado 68.5%\n",
      "2 dp: esperado ~95% | observado 95.5%\n",
      "3 dp: esperado ~99.7% | observado 99.7%\n"
     ]
    }
   ],
   "source": [
    "dp = s.std()\n",
    "media = s.mean()\n",
    "\n",
    "percentis = {\n",
    "  \"1 dp\": (media - dp, media + dp),\n",
    "  \"2 dp\": (media - 2*dp, media + 2*dp),\n",
    "  \"3 dp\": (media - 3*dp, media + 3*dp)\n",
    "}\n",
    "\n",
    "dentro_1dp = (s[(s >= percentis[\"1 dp\"][0]) & (s <= percentis[\"1 dp\"][1])].count() / len(s)) * 100\n",
    "dentro_2dp = (s[(s >= percentis[\"2 dp\"][0]) & (s <= percentis[\"2 dp\"][1])].count() / len(s)) * 100\n",
    "dentro_3dp = (s[(s >= percentis[\"3 dp\"][0]) & (s <= percentis[\"3 dp\"][1])].count() / len(s)) * 100\n",
    "\n",
    "print(f\"1 dp: esperado ~68% | observado {dentro_1dp:.1f}%\")\n",
    "print(f\"2 dp: esperado ~95% | observado {dentro_2dp:.1f}%\")\n",
    "print(f\"3 dp: esperado ~99.7% | observado {dentro_3dp:.1f}%\")"
   ]
  },
  {
   "cell_type": "markdown",
   "metadata": {},
   "source": [
    "## 6. Calcule a média dos números maiores que ```s.mean()```. Calcule a média dos números menores que ```s.mean()```. A média desses dois resultados é igual a ```s.mean()```?"
   ]
  },
  {
   "cell_type": "code",
   "execution_count": 49,
   "metadata": {},
   "outputs": [
    {
     "name": "stdout",
     "output_type": "stream",
     "text": [
      "média dos valores acima da média = 79.9747\n",
      "média dos valores abaixo da média = -79.7086\n",
      "média da série = 0.0724\n",
      "media das médias = 0.133\n"
     ]
    }
   ],
   "source": [
    "s = pd.Series(rng.normal(0, 100, 100_000))\n",
    "\n",
    "media_maiores = s[s > s.mean()].mean()\n",
    "media_menores = s[s < s.mean()].mean()\n",
    "\n",
    "print(f\"média dos valores acima da média = {round(media_maiores, 4)}\")\n",
    "print(f\"média dos valores abaixo da média = {round(media_menores, 4)}\")\n",
    "\n",
    "print(f\"média da série = {round(s.mean(), 4)}\")\n",
    "print(f\"media das médias = {round((media_maiores + media_menores)/2, 4)}\")"
   ]
  },
  {
   "cell_type": "markdown",
   "metadata": {},
   "source": [
    "## 7. Qual a média dos valores acima de 3 d.p.?"
   ]
  },
  {
   "cell_type": "code",
   "execution_count": 51,
   "metadata": {},
   "outputs": [
    {
     "data": {
      "text/plain": [
       "np.float64(303.9897670424998)"
      ]
     },
     "execution_count": 51,
     "metadata": {},
     "output_type": "execute_result"
    }
   ],
   "source": [
    "p99 = s.quantile(0.997)\n",
    "s[s > p99].mean()"
   ]
  }
 ],
 "metadata": {
  "kernelspec": {
   "display_name": "Python 3",
   "language": "python",
   "name": "python3"
  },
  "language_info": {
   "codemirror_mode": {
    "name": "ipython",
    "version": 3
   },
   "file_extension": ".py",
   "mimetype": "text/x-python",
   "name": "python",
   "nbconvert_exporter": "python",
   "pygments_lexer": "ipython3",
   "version": "3.13.1"
  }
 },
 "nbformat": 4,
 "nbformat_minor": 2
}
