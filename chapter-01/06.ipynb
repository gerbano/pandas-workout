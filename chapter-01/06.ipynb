{
 "cells": [
  {
   "cell_type": "markdown",
   "metadata": {},
   "source": [
    "# 6. Frequência de passageiros\n",
    "\n",
    "Os dados usados neste exercício estão no arquivo ```taxi-passenger-count.csv```, que contém as quantidade de passageiros em cada uma de 100.000 viagens.\n",
    "\n",
    "Sua tarefa é mostrar qual a percentagem de viagens com apenas um passageiro contra a quantidade máxima (teórica) de 6 passageiros.\n",
    "\n",
    "Extras:\n",
    "\n",
    "- Quais são os quantis 25%, 50% (mediana) e 75% desse conjunto de dados? Você consegue adivinhar os resultados antes de rodar o código?\n",
    "- Qual a proporção de viagens para 3, 4, 5 ou 6 passageiros?\n",
    "- Assuma que você é o responsável pelo licenciamento de táxis de Nova York. Dados esses números, mais pessoas se beneficiariam de táxis menores que podem levar apenas um ou dois passageiros ou de táxis maiores que podem levar cinco ou seis passageiros?"
   ]
  },
  {
   "cell_type": "code",
   "execution_count": 9,
   "metadata": {},
   "outputs": [],
   "source": [
    "import pandas as pd\n",
    "\n",
    "viagens = pd.read_csv(\"../data/taxi-passenger-count.csv\", header=None).squeeze()"
   ]
  },
  {
   "cell_type": "code",
   "execution_count": 14,
   "metadata": {},
   "outputs": [
    {
     "name": "stdout",
     "output_type": "stream",
     "text": [
      "% de viagens com 1 passageiro: 0.7207720772077207\n",
      "% de viagens com 6 passageiros: 0.0369036903690369\n"
     ]
    }
   ],
   "source": [
    "print(f\"% de viagens com 1 passageiro: {viagens.loc[viagens==1].count() / viagens.count()}\")\n",
    "\n",
    "print(f\"% de viagens com 6 passageiros: {viagens.loc[viagens==6].count() / viagens.count()}\")"
   ]
  },
  {
   "cell_type": "code",
   "execution_count": 17,
   "metadata": {},
   "outputs": [
    {
     "data": {
      "text/plain": [
       "0\n",
       "1    0.720772\n",
       "6    0.036904\n",
       "Name: proportion, dtype: float64"
      ]
     },
     "execution_count": 17,
     "metadata": {},
     "output_type": "execute_result"
    }
   ],
   "source": [
    "viagens.value_counts()\n",
    "\n",
    "viagens.value_counts()[[1, 6]]\n",
    "\n",
    "viagens.value_counts(normalize=True)[[1, 6]]"
   ]
  },
  {
   "cell_type": "markdown",
   "metadata": {},
   "source": [
    "### Quais são os quantis 25%, 50% (mediana) e 75% desse conjunto de dados? Você consegue adivinhar os resultados antes de rodar o código?"
   ]
  },
  {
   "cell_type": "code",
   "execution_count": 18,
   "metadata": {},
   "outputs": [
    {
     "data": {
      "text/plain": [
       "0.25    1.0\n",
       "0.50    1.0\n",
       "0.75    2.0\n",
       "Name: 0, dtype: float64"
      ]
     },
     "execution_count": 18,
     "metadata": {},
     "output_type": "execute_result"
    }
   ],
   "source": [
    "viagens.quantile([0.25, 0.5, 0.75])"
   ]
  },
  {
   "cell_type": "markdown",
   "metadata": {},
   "source": [
    "### Qual a proporção de viagens para 3, 4, 5 ou 6 passageiros?"
   ]
  },
  {
   "cell_type": "code",
   "execution_count": 19,
   "metadata": {},
   "outputs": [
    {
     "data": {
      "text/plain": [
       "0\n",
       "3    0.040604\n",
       "4    0.018202\n",
       "5    0.052005\n",
       "6    0.036904\n",
       "Name: proportion, dtype: float64"
      ]
     },
     "execution_count": 19,
     "metadata": {},
     "output_type": "execute_result"
    }
   ],
   "source": [
    "viagens.value_counts(normalize=True)[[3, 4, 5, 6]]"
   ]
  },
  {
   "cell_type": "markdown",
   "metadata": {},
   "source": [
    "### Assuma que você é o responsável pelo licenciamento de táxis de Nova York. Dados esses números, mais pessoas se beneficiariam de táxis menores que podem levar apenas um ou dois passageiros ou de táxis maiores que podem levar cinco ou seis passageiros?"
   ]
  },
  {
   "cell_type": "code",
   "execution_count": 20,
   "metadata": {},
   "outputs": [
    {
     "data": {
      "text/plain": [
       "0\n",
       "1    0.720772\n",
       "2    0.131313\n",
       "5    0.052005\n",
       "3    0.040604\n",
       "6    0.036904\n",
       "4    0.018202\n",
       "0    0.000200\n",
       "Name: proportion, dtype: float64"
      ]
     },
     "execution_count": 20,
     "metadata": {},
     "output_type": "execute_result"
    }
   ],
   "source": [
    "viagens.value_counts(normalize=True)"
   ]
  },
  {
   "cell_type": "markdown",
   "metadata": {},
   "source": [
    "Uma vez que 85% das viagens levam até 2 passageiros e assumindo que a quantidade total de veículos permanecerá constante, faz sentido licenciar mais táxis menores através da substituição gradual da frota atual."
   ]
  }
 ],
 "metadata": {
  "kernelspec": {
   "display_name": "Python 3",
   "language": "python",
   "name": "python3"
  },
  "language_info": {
   "codemirror_mode": {
    "name": "ipython",
    "version": 3
   },
   "file_extension": ".py",
   "mimetype": "text/x-python",
   "name": "python",
   "nbconvert_exporter": "python",
   "pygments_lexer": "ipython3",
   "version": "3.13.1"
  }
 },
 "nbformat": 4,
 "nbformat_minor": 2
}
