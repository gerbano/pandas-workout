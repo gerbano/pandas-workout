{
 "cells": [
  {
   "cell_type": "markdown",
   "metadata": {},
   "source": [
    "# 2. Colocando notas na curva\n",
    "\n",
    "Neste exercício, gere 10 notas entre 40 e 60 novamente usando os meses entre fevereiro e novembro, inclusive.\n",
    "\n",
    "1. Calcule a média das notas e adicione a diferença entre a média e 80 a cada uma delas.\n",
    "\n",
    "2. Quem pontuou dentro de 1 d.p. recebe um B (acima da média) ou um C (abaixo da média). Acima de 1 d.p. acima da média recebe um A e qualquer um abaixo de 1 d.p. abaixo da média recebe um D. Em quais meses nosso aluno recebeu A, B, C ou D?\n",
    "\n",
    "3. Houve alguma nota acima ou abaixo de 2 d.p.? Se sim, em quais meses?\n",
    "\n",
    "4. Quão próximos estão a média e a mediana entre si? O que significa se estiverem próximas? E se estiverem afastadas?"
   ]
  },
  {
   "cell_type": "code",
   "execution_count": 2,
   "metadata": {},
   "outputs": [
    {
     "name": "stdout",
     "output_type": "stream",
     "text": [
      "fev    57\n",
      "mar    53\n",
      "abr    50\n",
      "mai    45\n",
      "jun    46\n",
      "jul    40\n",
      "ago    41\n",
      "set    40\n",
      "out    43\n",
      "nov    57\n",
      "dtype: int64\n"
     ]
    }
   ],
   "source": [
    "import pandas as pd\n",
    "import numpy as np\n",
    "\n",
    "rng = np.random.default_rng(0)\n",
    "\n",
    "meses = 'fev mar abr mai jun jul ago set out nov'.split()\n",
    "notas = pd.Series(rng.integers(40, 61, 10), index=meses)\n",
    "print(notas)"
   ]
  },
  {
   "cell_type": "markdown",
   "metadata": {},
   "source": [
    "## 1. Calcule a média das notas e adicione a diferença entre a média e 80 a cada uma delas."
   ]
  },
  {
   "cell_type": "code",
   "execution_count": null,
   "metadata": {},
   "outputs": [
    {
     "data": {
      "text/plain": [
       "fev    89.8\n",
       "mar    85.8\n",
       "abr    82.8\n",
       "mai    77.8\n",
       "jun    78.8\n",
       "jul    72.8\n",
       "ago    73.8\n",
       "set    72.8\n",
       "out    75.8\n",
       "nov    89.8\n",
       "dtype: float64"
      ]
     },
     "execution_count": 3,
     "metadata": {},
     "output_type": "execute_result"
    }
   ],
   "source": [
    "# calculando a média das notas\n",
    "media = notas.mean()\n",
    "\n",
    "# imprimindo o cálculo\n",
    "80 - media + notas\n"
   ]
  },
  {
   "cell_type": "markdown",
   "metadata": {},
   "source": [
    "## 2. Quem pontuou dentro de 1 d.p. recebe um B (acima da média) ou um C (abaixo da média). Acima de 1 d.p. acima da média recebe um A e qualquer um abaixo de 1 d.p. abaixo da média recebe um D. Em quais meses nosso aluno recebeu A, B, C ou D?"
   ]
  },
  {
   "cell_type": "code",
   "execution_count": null,
   "metadata": {},
   "outputs": [
    {
     "data": {
      "text/plain": [
       "jul    40\n",
       "set    40\n",
       "dtype: int64"
      ]
     },
     "execution_count": 13,
     "metadata": {},
     "output_type": "execute_result"
    }
   ],
   "source": [
    "# acima de 1 d.p. = A\n",
    "notas[notas > (notas.mean() + notas.std())]\n",
    "\n",
    "# acim da média = B\n",
    "notas[(notas > notas.mean()) & (notas <= (notas.mean() + notas.std()))]\n",
    "\n",
    "# abaxio da média = C\n",
    "notas[(notas < notas.mean()) & (notas >= (notas.mean() - notas.std()))]\n",
    "\n",
    "# abaxio de 1 d.p. = D\n",
    "notas[notas < (notas.mean() - notas.std())]"
   ]
  },
  {
   "cell_type": "code",
   "execution_count": 4,
   "metadata": {},
   "outputs": [
    {
     "name": "stdout",
     "output_type": "stream",
     "text": [
      "fev: A\n",
      "mar: B\n",
      "abr: B\n",
      "mai: C\n",
      "jun: C\n",
      "jul: D\n",
      "ago: C\n",
      "set: D\n",
      "out: C\n",
      "nov: A\n"
     ]
    }
   ],
   "source": [
    "media = notas.mean()\n",
    "dp = notas.std()\n",
    "for indice, nota in notas.items():\n",
    "    if (nota > (media + dp)):\n",
    "        print(f'{indice}: A')\n",
    "    elif ((nota > media) & (nota <= (media + dp))):\n",
    "        print(f'{indice}: B')\n",
    "    elif ((nota < media) & (nota >= (media - dp))):\n",
    "        print(f'{indice}: C')\n",
    "    else:\n",
    "        print(f'{indice}: D')\n"
   ]
  },
  {
   "cell_type": "markdown",
   "metadata": {},
   "source": [
    "## 3. Houve alguma nota acima ou abaixo de 2 d.p.? Se sim, em quais meses?"
   ]
  },
  {
   "cell_type": "code",
   "execution_count": 5,
   "metadata": {},
   "outputs": [
    {
     "data": {
      "text/plain": [
       "Series([], dtype: int64)"
      ]
     },
     "execution_count": 5,
     "metadata": {},
     "output_type": "execute_result"
    }
   ],
   "source": [
    "#notas[notas > (notas.mean() + (2 * notas.std()))]\n",
    "\n",
    "#notas[notas < (notas.mean() - (2 * notas.std()))]\n",
    "\n",
    "notas[(notas > (notas.mean() + (2 * notas.std()))) | (notas < (notas.mean() - (2 * notas.std())))]"
   ]
  },
  {
   "cell_type": "markdown",
   "metadata": {},
   "source": [
    "## 4. Quão próximos estão a média e a mediana entre si? O que significa se estiverem próximas? E se estiverem afastadas?"
   ]
  },
  {
   "cell_type": "code",
   "execution_count": 59,
   "metadata": {},
   "outputs": [
    {
     "name": "stdout",
     "output_type": "stream",
     "text": [
      "-1.7000000000000028\n"
     ]
    }
   ],
   "source": [
    "print(notas.median() - notas.mean())"
   ]
  }
 ],
 "metadata": {
  "kernelspec": {
   "display_name": "Python 3",
   "language": "python",
   "name": "python3"
  },
  "language_info": {
   "codemirror_mode": {
    "name": "ipython",
    "version": 3
   },
   "file_extension": ".py",
   "mimetype": "text/x-python",
   "name": "python",
   "nbconvert_exporter": "python",
   "pygments_lexer": "ipython3",
   "version": "3.13.1"
  }
 },
 "nbformat": 4,
 "nbformat_minor": 2
}
