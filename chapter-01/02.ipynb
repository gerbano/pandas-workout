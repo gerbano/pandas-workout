{
 "cells": [
  {
   "cell_type": "code",
   "execution_count": 3,
   "metadata": {},
   "outputs": [],
   "source": [
    "import pandas as pd\n",
    "import numpy as np\n",
    "\n",
    "rng = np.random.default_rng(0)"
   ]
  },
  {
   "cell_type": "code",
   "execution_count": 7,
   "metadata": {},
   "outputs": [
    {
     "name": "stdout",
     "output_type": "stream",
     "text": [
      "fev    48\n",
      "mar    58\n",
      "abr    51\n",
      "mai    40\n",
      "jun    56\n",
      "jul    55\n",
      "ago    57\n",
      "set    43\n",
      "out    41\n",
      "nov    58\n",
      "dtype: int64\n"
     ]
    }
   ],
   "source": [
    "meses = 'fev mar abr mai jun jul ago set out nov'.split()\n",
    "\n",
    "notas = pd.Series(rng.integers(40, 61, 10), index=meses)\n",
    "\n",
    "print(notas)"
   ]
  },
  {
   "cell_type": "code",
   "execution_count": 11,
   "metadata": {},
   "outputs": [
    {
     "data": {
      "text/plain": [
       "fev    77.3\n",
       "mar    87.3\n",
       "abr    80.3\n",
       "mai    69.3\n",
       "jun    85.3\n",
       "jul    84.3\n",
       "ago    86.3\n",
       "set    72.3\n",
       "out    70.3\n",
       "nov    87.3\n",
       "dtype: float64"
      ]
     },
     "execution_count": 11,
     "metadata": {},
     "output_type": "execute_result"
    }
   ],
   "source": [
    "media = notas.mean()\n",
    "\n",
    "80 - media + notas"
   ]
  },
  {
   "cell_type": "code",
   "execution_count": null,
   "metadata": {},
   "outputs": [],
   "source": []
  }
 ],
 "metadata": {
  "kernelspec": {
   "display_name": "Python 3",
   "language": "python",
   "name": "python3"
  },
  "language_info": {
   "codemirror_mode": {
    "name": "ipython",
    "version": 3
   },
   "file_extension": ".py",
   "mimetype": "text/x-python",
   "name": "python",
   "nbconvert_exporter": "python",
   "pygments_lexer": "ipython3",
   "version": "3.10.12"
  }
 },
 "nbformat": 4,
 "nbformat_minor": 2
}
