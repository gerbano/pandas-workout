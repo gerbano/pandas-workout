{
 "cells": [
  {
   "cell_type": "code",
   "execution_count": 4,
   "metadata": {},
   "outputs": [],
   "source": [
    "import pandas as pd\n",
    "import numpy as np\n",
    "\n",
    "rng = np.random.default_rng(0)"
   ]
  },
  {
   "cell_type": "code",
   "execution_count": 5,
   "metadata": {},
   "outputs": [
    {
     "name": "stdout",
     "output_type": "stream",
     "text": [
      "fev    57\n",
      "mar    53\n",
      "abr    50\n",
      "mai    45\n",
      "jun    46\n",
      "jul    40\n",
      "ago    41\n",
      "set    40\n",
      "out    43\n",
      "nov    57\n",
      "dtype: int64\n"
     ]
    }
   ],
   "source": [
    "meses = 'fev mar abr mai jun jul ago set out nov'.split()\n",
    "\n",
    "notas = pd.Series(rng.integers(40, 61, 10), index=meses)\n",
    "\n",
    "print(notas)"
   ]
  },
  {
   "cell_type": "code",
   "execution_count": 6,
   "metadata": {},
   "outputs": [
    {
     "data": {
      "text/plain": [
       "fev    89.8\n",
       "mar    85.8\n",
       "abr    82.8\n",
       "mai    77.8\n",
       "jun    78.8\n",
       "jul    72.8\n",
       "ago    73.8\n",
       "set    72.8\n",
       "out    75.8\n",
       "nov    89.8\n",
       "dtype: float64"
      ]
     },
     "execution_count": 6,
     "metadata": {},
     "output_type": "execute_result"
    }
   ],
   "source": [
    "media = notas.mean()\n",
    "\n",
    "80 - media + notas"
   ]
  },
  {
   "cell_type": "code",
   "execution_count": null,
   "metadata": {},
   "outputs": [
    {
     "data": {
      "text/plain": [
       "jul    40\n",
       "set    40\n",
       "dtype: int64"
      ]
     },
     "execution_count": 13,
     "metadata": {},
     "output_type": "execute_result"
    }
   ],
   "source": [
    "# acima de 1 d.p. = A\n",
    "notas[notas > (notas.mean() + notas.std())]\n",
    "\n",
    "# acim da média = B\n",
    "notas[(notas > notas.mean()) & (notas <= (notas.mean() + notas.std()))]\n",
    "\n",
    "# abaxio da média = C\n",
    "notas[(notas < notas.mean()) & (notas >= (notas.mean() - notas.std()))]\n",
    "\n",
    "# abaxio de 1 d.p. = D\n",
    "notas[notas < (notas.mean() - notas.std())]"
   ]
  },
  {
   "cell_type": "code",
   "execution_count": 54,
   "metadata": {},
   "outputs": [
    {
     "name": "stdout",
     "output_type": "stream",
     "text": [
      "fev: A\n",
      "mar: B\n",
      "abr: B\n",
      "mai: C\n",
      "jun: C\n",
      "jul: D\n",
      "ago: C\n",
      "set: D\n",
      "out: C\n",
      "nov: A\n"
     ]
    }
   ],
   "source": [
    "media = notas.mean()\n",
    "dp = notas.std()\n",
    "for indice, nota in notas.items():\n",
    "    if (nota > (media + dp)):\n",
    "        print(f'{indice}: A')\n",
    "    elif ((nota > media) & (nota <= (media + dp))):\n",
    "        print(f'{indice}: B')\n",
    "    elif ((nota < media) & (nota >= (media - dp))):\n",
    "        print(f'{indice}: C')\n",
    "    else:\n",
    "        print(f'{indice}: D')\n"
   ]
  },
  {
   "cell_type": "code",
   "execution_count": 56,
   "metadata": {},
   "outputs": [
    {
     "data": {
      "text/plain": [
       "Series([], dtype: int64)"
      ]
     },
     "execution_count": 56,
     "metadata": {},
     "output_type": "execute_result"
    }
   ],
   "source": [
    "#notas[notas > (notas.mean() + (2 * notas.std()))]\n",
    "\n",
    "#notas[notas < (notas.mean() - (2 * notas.std()))]\n",
    "\n",
    "notas[(notas > (notas.mean() + (2 * notas.std()))) | (notas < (notas.mean() - (2 * notas.std())))]"
   ]
  },
  {
   "cell_type": "code",
   "execution_count": 59,
   "metadata": {},
   "outputs": [
    {
     "name": "stdout",
     "output_type": "stream",
     "text": [
      "-1.7000000000000028\n"
     ]
    }
   ],
   "source": [
    "print(notas.median() - notas.mean())"
   ]
  }
 ],
 "metadata": {
  "kernelspec": {
   "display_name": "Python 3",
   "language": "python",
   "name": "python3"
  },
  "language_info": {
   "codemirror_mode": {
    "name": "ipython",
    "version": 3
   },
   "file_extension": ".py",
   "mimetype": "text/x-python",
   "name": "python",
   "nbconvert_exporter": "python",
   "pygments_lexer": "ipython3",
   "version": "3.13.1"
  }
 },
 "nbformat": 4,
 "nbformat_minor": 2
}
