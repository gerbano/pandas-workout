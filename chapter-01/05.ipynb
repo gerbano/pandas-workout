{
 "cells": [
  {
   "cell_type": "markdown",
   "metadata": {},
   "source": [
    "# 5. Temperaturas de segundas-feiras\n",
    "\n",
    "crie uma série de 28 temperaturas aleatórias de distribuição normal com média 20 e d.p. de 5, arrendondadas para o inteiro mais próximo, representando 4 semanas. O índice deve começar no domingo. A pergunta é: qual é a temperatura média das segundas-feiras?\n",
    "\n",
    "Extras:\n",
    "\n",
    "2. qual foi a temperatura média nos fins de semana?\n",
    "3. quantas vezes a temperatura mudou em mais de 2 graus de um dia para o outro?\n",
    "4. quais são as duas temperaturas mais comuns nas nossas observações e quantas vezes cada um apareceu?"
   ]
  },
  {
   "cell_type": "code",
   "execution_count": 17,
   "metadata": {},
   "outputs": [
    {
     "name": "stdout",
     "output_type": "stream",
     "text": [
      "dom    21.0\n",
      "seg    19.0\n",
      "ter    23.0\n",
      "qua    21.0\n",
      "qui    17.0\n",
      "sex    22.0\n",
      "sab    27.0\n",
      "dom    25.0\n",
      "seg    16.0\n",
      "ter    14.0\n",
      "qua    17.0\n",
      "qui    20.0\n",
      "sex     8.0\n",
      "sab    19.0\n",
      "dom    14.0\n",
      "seg    16.0\n",
      "ter    17.0\n",
      "qua    18.0\n",
      "qui    22.0\n",
      "sex    25.0\n",
      "sab    19.0\n",
      "dom    27.0\n",
      "seg    17.0\n",
      "ter    22.0\n",
      "qua    25.0\n",
      "qui    20.0\n",
      "sex    16.0\n",
      "sab    15.0\n",
      "dtype: float64\n"
     ]
    }
   ],
   "source": [
    "import pandas as pd\n",
    "import numpy as np\n",
    "\n",
    "gerador = np.random.default_rng(0)\n",
    "indice = (\"dom seg ter qua qui sex sab\").split()\n",
    "s = pd.Series(gerador.normal(loc=20, scale=5, size=28), index=indice*4)\n",
    "s = round(s, 0)\n",
    "print(s)"
   ]
  },
  {
   "cell_type": "code",
   "execution_count": 24,
   "metadata": {},
   "outputs": [
    {
     "name": "stdout",
     "output_type": "stream",
     "text": [
      "dom    22\n",
      "seg    23\n",
      "ter    14\n",
      "qua    17\n",
      "qui    18\n",
      "sex    14\n",
      "sab    29\n",
      "dom    18\n",
      "seg    22\n",
      "ter    19\n",
      "qua    28\n",
      "qui    27\n",
      "sex    23\n",
      "sab     9\n",
      "dom    20\n",
      "seg    23\n",
      "ter    25\n",
      "qua    17\n",
      "qui    29\n",
      "sex    13\n",
      "sab    17\n",
      "dom    25\n",
      "seg    20\n",
      "ter    30\n",
      "qua    21\n",
      "qui    17\n",
      "sex    18\n",
      "sab    15\n",
      "dtype: int8\n"
     ]
    }
   ],
   "source": [
    "s = pd.Series(gerador.normal(loc=20, scale=5, size=28), index=indice*4).round().astype(np.int8)\n",
    "print(s)"
   ]
  },
  {
   "cell_type": "code",
   "execution_count": 25,
   "metadata": {},
   "outputs": [
    {
     "data": {
      "text/plain": [
       "np.float64(22.0)"
      ]
     },
     "execution_count": 25,
     "metadata": {},
     "output_type": "execute_result"
    }
   ],
   "source": [
    "#s[s.index == 'seg'].mean()\n",
    "s.loc['seg'].mean()"
   ]
  },
  {
   "cell_type": "markdown",
   "metadata": {},
   "source": [
    "## 2. qual foi a temperatura média nos fins de semana?"
   ]
  },
  {
   "cell_type": "code",
   "execution_count": 29,
   "metadata": {},
   "outputs": [
    {
     "data": {
      "text/plain": [
       "np.float64(19.375)"
      ]
     },
     "execution_count": 29,
     "metadata": {},
     "output_type": "execute_result"
    }
   ],
   "source": [
    "s.loc[['sab', 'dom']].mean()"
   ]
  },
  {
   "cell_type": "markdown",
   "metadata": {},
   "source": [
    "## 3. quantas vezes a temperatura mudou em mais de 2 graus de um dia para o outro?"
   ]
  },
  {
   "cell_type": "code",
   "execution_count": 34,
   "metadata": {},
   "outputs": [
    {
     "data": {
      "text/plain": [
       "11"
      ]
     },
     "execution_count": 34,
     "metadata": {},
     "output_type": "execute_result"
    }
   ],
   "source": [
    "len(s[s.diff() >= 2.0])"
   ]
  },
  {
   "cell_type": "markdown",
   "metadata": {},
   "source": [
    "## 4. quais são as duas temperaturas mais comuns nas nossas observações e quantas vezes cada um apareceu?"
   ]
  },
  {
   "cell_type": "code",
   "execution_count": null,
   "metadata": {},
   "outputs": [
    {
     "data": {
      "text/plain": [
       "17    4\n",
       "23    3\n",
       "Name: count, dtype: int64"
      ]
     },
     "execution_count": 40,
     "metadata": {},
     "output_type": "execute_result"
    }
   ],
   "source": [
    "s.value_counts().head(2)"
   ]
  },
  {
   "cell_type": "code",
   "execution_count": null,
   "metadata": {},
   "outputs": [
    {
     "name": "stdout",
     "output_type": "stream",
     "text": [
      "17    4\n",
      "Name: count, dtype: int64\n",
      "23    3\n",
      "18    3\n",
      "Name: count, dtype: int64\n"
     ]
    }
   ],
   "source": [
    "freq = s.value_counts()\n",
    "print(freq[freq == freq.iloc[0]])\n",
    "print(freq[freq == freq.iloc[1]])"
   ]
  },
  {
   "cell_type": "code",
   "execution_count": null,
   "metadata": {},
   "outputs": [],
   "source": []
  }
 ],
 "metadata": {
  "kernelspec": {
   "display_name": "Python 3",
   "language": "python",
   "name": "python3"
  },
  "language_info": {
   "codemirror_mode": {
    "name": "ipython",
    "version": 3
   },
   "file_extension": ".py",
   "mimetype": "text/x-python",
   "name": "python",
   "nbconvert_exporter": "python",
   "pygments_lexer": "ipython3",
   "version": "3.13.1"
  }
 },
 "nbformat": 4,
 "nbformat_minor": 2
}
