{
 "cells": [
  {
   "cell_type": "markdown",
   "metadata": {},
   "source": [
    "# 3. Contando dezenas\n",
    "\n",
    "1. Gere 10 números inteiros aleatórios entre 0 e 100, inclusive. Crie uma série contendo as dezenas desses números. Assim, se a série aleatória contiver 10, 25 e 32, então queremos os valores 1, 2 e 3.\n",
    "\n",
    "Extensões:\n",
    "\n",
    "2. E se os valores fossem de 0 a 10.000? Como você faria?\n",
    "3. Dados valores entre 0 e 10.000, qual é o menor dtype que deveria ser usado?\n",
    "4. Crie uma nova série com 10 valores ```float``` entre 0 e 1.000. Encontre os números cujo componente inteiro sejam pares."
   ]
  },
  {
   "cell_type": "markdown",
   "metadata": {},
   "source": [
    "## 1. Gere 10 números inteiros aleatórios entre 0 e 100, inclusive. Crie uma série contendo as dezenas desses números. Assim, se a série aleatória contiver 10, 25 e 32, então queremos os valores 1, 2 e 3"
   ]
  },
  {
   "cell_type": "code",
   "execution_count": 1,
   "metadata": {},
   "outputs": [
    {
     "name": "stdout",
     "output_type": "stream",
     "text": [
      "0    85\n",
      "1    64\n",
      "2    51\n",
      "3    27\n",
      "4    31\n",
      "5     4\n",
      "6     7\n",
      "7     1\n",
      "8    17\n",
      "9    82\n",
      "dtype: int64\n"
     ]
    }
   ],
   "source": [
    "import pandas as pd\n",
    "import numpy as np\n",
    "\n",
    "rng = np.random.default_rng(0)\n",
    "serie = pd.Series(rng.integers(0, 101, 10))\n",
    "print(serie)"
   ]
  },
  {
   "cell_type": "code",
   "execution_count": 2,
   "metadata": {},
   "outputs": [
    {
     "data": {
      "text/plain": [
       "0    8\n",
       "1    6\n",
       "2    5\n",
       "3    2\n",
       "4    3\n",
       "5    0\n",
       "6    0\n",
       "7    0\n",
       "8    1\n",
       "9    8\n",
       "dtype: int64"
      ]
     },
     "execution_count": 2,
     "metadata": {},
     "output_type": "execute_result"
    }
   ],
   "source": [
    "serie // 10"
   ]
  },
  {
   "cell_type": "code",
   "execution_count": 3,
   "metadata": {},
   "outputs": [
    {
     "data": {
      "text/plain": [
       "0    8\n",
       "1    6\n",
       "2    5\n",
       "3    2\n",
       "4    3\n",
       "5    0\n",
       "6    0\n",
       "7    0\n",
       "8    1\n",
       "9    8\n",
       "dtype: int64"
      ]
     },
     "execution_count": 3,
     "metadata": {},
     "output_type": "execute_result"
    }
   ],
   "source": [
    "(serie / 10).astype(int)"
   ]
  },
  {
   "cell_type": "markdown",
   "metadata": {},
   "source": [
    "## 2. E se os valores fossem de 0 a 10.000? Como você faria?"
   ]
  },
  {
   "cell_type": "code",
   "execution_count": 6,
   "metadata": {},
   "outputs": [
    {
     "name": "stdout",
     "output_type": "stream",
     "text": [
      "0    6494\n",
      "1    9128\n",
      "2    5036\n",
      "3    6066\n",
      "4    9708\n",
      "5    7295\n",
      "6    6323\n",
      "7    5436\n",
      "8    5599\n",
      "9    9351\n",
      "dtype: int64\n"
     ]
    }
   ],
   "source": [
    "serie = pd.Series(rng.integers(0, 10001, 10))\n",
    "print(serie)"
   ]
  },
  {
   "cell_type": "code",
   "execution_count": 7,
   "metadata": {},
   "outputs": [
    {
     "data": {
      "text/plain": [
       "0    9\n",
       "1    2\n",
       "2    3\n",
       "3    6\n",
       "4    0\n",
       "5    9\n",
       "6    2\n",
       "7    3\n",
       "8    9\n",
       "9    5\n",
       "dtype: int64"
      ]
     },
     "execution_count": 7,
     "metadata": {},
     "output_type": "execute_result"
    }
   ],
   "source": [
    "serie // 10 % 10"
   ]
  },
  {
   "cell_type": "markdown",
   "metadata": {},
   "source": [
    "## 3. Dados valores entre 0 e 10.000, qual é o menor dtype que deveria ser usado?"
   ]
  },
  {
   "cell_type": "markdown",
   "metadata": {},
   "source": [
    "# 4. Crie uma nova série com 10 valores ```float``` entre 0 e 1.000. Encontre os números cujo componente inteiro sejam pares."
   ]
  },
  {
   "cell_type": "code",
   "execution_count": 4,
   "metadata": {},
   "outputs": [
    {
     "name": "stdout",
     "output_type": "stream",
     "text": [
      "0    912.755577\n",
      "1    606.635776\n",
      "2    729.496561\n",
      "3    543.624991\n",
      "4    935.072424\n",
      "5    815.853554\n",
      "6      2.738500\n",
      "7    857.404277\n",
      "8     33.585575\n",
      "9    729.655446\n",
      "dtype: float64\n"
     ]
    },
    {
     "data": {
      "text/plain": [
       "0    912.755577\n",
       "1    606.635776\n",
       "6      2.738500\n",
       "dtype: float64"
      ]
     },
     "execution_count": 4,
     "metadata": {},
     "output_type": "execute_result"
    }
   ],
   "source": [
    "serie = pd.Series(rng.random(10) * 1000)\n",
    "print(serie)\n",
    "\n",
    "serie[serie.astype(int) % 2 == 0]"
   ]
  },
  {
   "cell_type": "code",
   "execution_count": null,
   "metadata": {},
   "outputs": [],
   "source": []
  }
 ],
 "metadata": {
  "kernelspec": {
   "display_name": "Python 3",
   "language": "python",
   "name": "python3"
  },
  "language_info": {
   "codemirror_mode": {
    "name": "ipython",
    "version": 3
   },
   "file_extension": ".py",
   "mimetype": "text/x-python",
   "name": "python",
   "nbconvert_exporter": "python",
   "pygments_lexer": "ipython3",
   "version": "3.13.1"
  }
 },
 "nbformat": 4,
 "nbformat_minor": 2
}
